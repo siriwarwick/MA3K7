{
 "cells": [
  {
   "cell_type": "code",
   "execution_count": null,
   "id": "aa5cf076-7a79-4d49-845c-f9a8f3ca6cf8",
   "metadata": {},
   "outputs": [],
   "source": [
    "# Logarithmic growth of the Harmonic series (see section 1.5 in my book)\n",
    "import numpy as np\n",
    "import matplotlib.pyplot as plt\n",
    "\n",
    "Nmax = 1e5\n",
    "n = np.arange(1, Nmax+1)\n",
    "hplot = np.zeros_like(n) \n",
    "harmo = 0\n",
    "\n",
    "for N in np.arange(0, int(Nmax)): \n",
    "    harmo = harmo + 1/n[N]\n",
    "    hplot[N] = harmo\n",
    "\n",
    "plt.semilogx(n, hplot, n, np.log(n), '--')\n",
    "plt.xlabel('$n$')\n",
    "plt.legend(['Harmonic series', r'$\\ln n$'], loc = 'lower right')\n",
    "plt.xlim(10, Nmax)\n",
    "plt.ylim(2,12)\n",
    "plt.grid('on')\n",
    "plt.show()\n"
   ]
  },
  {
   "cell_type": "code",
   "execution_count": null,
   "id": "a017cda6-86b1-4eac-bc43-2ba6f8c75a89",
   "metadata": {},
   "outputs": [],
   "source": [
    "# Pascal triangle mod 4\n",
    "n = 30\n",
    "mod = 4\n",
    "\n",
    "def binom(n,k):\n",
    "    a = 1\n",
    "    for i in range(k):\n",
    "        a = a*(n-i)//(i+1)        \n",
    "    return a\n",
    "\n",
    "def symb(u):\n",
    "    if u==0:\n",
    "        return \"\\u001b[34m0\"       # blue 0\n",
    "    elif u==1:\n",
    "        return \"\\u001b[33m1\"       # yellow 1\n",
    "    elif u==2:\n",
    "        return \"\\u001b[31m2\"       # red 2\n",
    "    else:\n",
    "        return \"\\u001b[37m3\"       # white 3\n",
    "\n",
    "for i in range(n+1):\n",
    "    for j in range(0, n-i+1):\n",
    "        print(' ', end='') \n",
    "    for j in range(i+1):\n",
    "        u = binom(i,j) % mod\n",
    "        s = symb(u)\n",
    "        print(' ', s, sep='', end='') \n",
    "    print('')\n",
    "    "
   ]
  }
 ],
 "metadata": {
  "kernelspec": {
   "display_name": "Python 3 (ipykernel)",
   "language": "python",
   "name": "python3"
  },
  "language_info": {
   "codemirror_mode": {
    "name": "ipython",
    "version": 3
   },
   "file_extension": ".py",
   "mimetype": "text/x-python",
   "name": "python",
   "nbconvert_exporter": "python",
   "pygments_lexer": "ipython3",
   "version": "3.9.17"
  }
 },
 "nbformat": 4,
 "nbformat_minor": 5
}
