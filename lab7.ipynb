{
 "cells": [
  {
   "cell_type": "code",
   "execution_count": null,
   "id": "4bcd46bb-8ebf-4a2c-b2a5-c6c5dbeca20c",
   "metadata": {},
   "outputs": [],
   "source": [
    "# symbolic solve characteristic eq.\n",
    "import sympy as sp\n",
    "from sympy.abc import m\n",
    "\n",
    "M = sp.solve(m**2-m-1, m)"
   ]
  },
  {
   "cell_type": "code",
   "execution_count": null,
   "id": "6f546ac4-79a6-4888-9f14-e35b1d7c7545",
   "metadata": {},
   "outputs": [],
   "source": [
    "# numerical solve eigenvalues\n",
    "import numpy as np\n",
    "from scipy import linalg as LA\n",
    "\n",
    "A= np.array([[1,1],[1,0]])\n",
    "\n",
    "lam, P = LA.eig(A)"
   ]
  },
  {
   "cell_type": "code",
   "execution_count": null,
   "id": "89ad1677-9d03-4bf6-9093-ee3cb0e92ac8",
   "metadata": {},
   "outputs": [],
   "source": [
    "# symbolic solve coeffs C_i\n",
    "import sympy as sp\n",
    "x, y = sp.symbols(\"x,y\")\n",
    "A = sp.Matrix([[1, 1], [M[0], M[1]]])\n",
    "b = sp.Matrix([0, 1])\n",
    "C,= sp.linsolve((A, b), x, y)   # comma = unpacking operator"
   ]
  },
  {
   "cell_type": "code",
   "execution_count": null,
   "id": "d53cc5a2-066c-4493-99ba-f15bc1561932",
   "metadata": {},
   "outputs": [],
   "source": [
    "# numerical solve coeffs C_i\n",
    "import numpy as np\n",
    "from scipy import linalg as LA\n",
    "A = np.array([[1, 1], [lam[0], lam[1]]])\n",
    "b = np.array([0, 1])\n",
    "C = LA.solve(A,b)"
   ]
  },
  {
   "cell_type": "code",
   "execution_count": null,
   "id": "48c1dd23-e0d9-4f8c-b8cb-4696df0f4d19",
   "metadata": {},
   "outputs": [],
   "source": [
    "# Plot recurrence relation\n",
    "import numpy as np\n",
    "import matplotlib.pyplot as plt\n",
    "%matplotlib inline\n",
    "\n",
    "A = np.array([2,3,11])\n",
    "for i in np.arange(3,21):\n",
    "    a = -A[i-1]+4*A[i-2]+4*A[i-3]\n",
    "    A = np.append(A,a)\n",
    "\n",
    "plt.semilogy(A)\n",
    "plt.grid('on')\n",
    "plt.show()\n",
    "A[20]"
   ]
  },
  {
   "cell_type": "code",
   "execution_count": null,
   "id": "54ec5ba5-5fad-401a-8a28-79a23cd9df3b",
   "metadata": {},
   "outputs": [],
   "source": [
    "# Numerical solution for a_n\n",
    "import numpy as np\n",
    "from scipy import linalg as LA\n",
    "\n",
    "#which term to calculate?\n",
    "n=20\n",
    "\n",
    "A= np.array([[-1, 4, 4],[1,0,0],[0,1,0]])\n",
    "\n",
    "lam, P = LA.eig(A)\n",
    "Dn = np.diag(lam**n)\n",
    "Pinv = LA.inv(P)\n",
    "Init = np.array([11, 3, 2])\n",
    "\n",
    "P@Dn@Pinv@Init"
   ]
  },
  {
   "cell_type": "code",
   "execution_count": null,
   "id": "4cbb9dd4-8bee-408c-87e5-12e1b4a1a6cc",
   "metadata": {},
   "outputs": [],
   "source": [
    "# Symbolic solution a_n\n",
    "\n",
    "# symbolic solve characteristic eq.\n",
    "import sympy as sp\n",
    "from sympy.abc import m, x, y, z, k\n",
    "\n",
    "M = sp.solve(m**3 + m**2 - 4*m -4, m)\n",
    "\n",
    "# symbolic solve linear system\n",
    "A = sp.Matrix([[1, 1, 1], [M[0], M[1], M[2]], [M[0]**2, M[1]**2, M[2]**2]])\n",
    "b = sp.Matrix([2,3,11])\n",
    "C,= sp.linsolve((A, b), x, y, z)\n",
    "\n",
    "def an(n):\n",
    "    return sum(C[i]*M[i]**n for i in range(3))\n",
    "\n",
    "an(k)"
   ]
  },
  {
   "cell_type": "code",
   "execution_count": null,
   "id": "53c5a642-5632-4ea2-baeb-6ffd08c587f0",
   "metadata": {},
   "outputs": [],
   "source": []
  }
 ],
 "metadata": {
  "kernelspec": {
   "display_name": "Python 3 (ipykernel)",
   "language": "python",
   "name": "python3"
  },
  "language_info": {
   "codemirror_mode": {
    "name": "ipython",
    "version": 3
   },
   "file_extension": ".py",
   "mimetype": "text/x-python",
   "name": "python",
   "nbconvert_exporter": "python",
   "pygments_lexer": "ipython3",
   "version": "3.9.17"
  }
 },
 "nbformat": 4,
 "nbformat_minor": 5
}
