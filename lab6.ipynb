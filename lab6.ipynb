{
 "cells": [
  {
   "cell_type": "code",
   "execution_count": null,
   "id": "33f98f9f-8aaa-4c13-ae92-5c7071aadd8c",
   "metadata": {},
   "outputs": [],
   "source": [
    "import numpy as np\n",
    "import matplotlib.pyplot as plt\n",
    "from scipy.stats import uniform, norm\n",
    "import seaborn as sns\n",
    "%matplotlib\n",
    "\n",
    "Means = []\n",
    "Musize = int(1e4)\n",
    "\n",
    "size = 100\n",
    "\n",
    "for i in range(Musize):\n",
    "    samples = uniform.rvs(size=size)\n",
    "    mu = np.mean(samples)\n",
    "    Means.append(mu)\n",
    "\n",
    "fig,(ax1, ax2)=plt.subplots(1,2,figsize=(7,3))\n",
    "x1 = np.linspace(0,1)\n",
    "pdf = uniform.pdf(x1)\n",
    "ax1.plot(x1, pdf)\n",
    "ax1.set_title(f'Uniform on [0,1]') \n",
    "ax1.grid('on')\n",
    "\n",
    "sns.histplot(Means, bins=25, \n",
    "             stat = 'density', ax=ax2)\n",
    "ax2.set_title(f'Distribution of sample mean') \n",
    "x2 = np.linspace(min(Means), max(Means))\n",
    "ax2.set_ylabel('')\n",
    "MU = np.mean(Means)\n",
    "SIG = np.sqrt(np.var(Means, ddof=1))\n",
    "y2 = norm.pdf(x2, MU, SIG) \n",
    "ax2.plot(x2,y2, 'r')\n",
    "ax2.grid('on')\n",
    "\n",
    "plt.show()\n",
    "\n",
    "Mcount = sum(i > 0.55 for i in Means)\n",
    "Ans = Mcount/Musize\n",
    "print(f'{Mcount} samples were >0.55. '\n",
    "      f'P(X>0.55)={Ans}')\n"
   ]
  },
  {
   "cell_type": "code",
   "execution_count": null,
   "id": "94d50bbe-4d63-439e-9524-016d13b91c6e",
   "metadata": {},
   "outputs": [],
   "source": [
    "MU, SIG"
   ]
  },
  {
   "cell_type": "code",
   "execution_count": null,
   "id": "54c921ba-966a-458a-8a87-be448990a5e4",
   "metadata": {},
   "outputs": [],
   "source": [
    "z0 = (0.55-MU)/SIG\n",
    "1- norm.cdf(z0)"
   ]
  },
  {
   "cell_type": "code",
   "execution_count": null,
   "id": "0a3b4b6d-94a2-4334-997b-25e01f410281",
   "metadata": {},
   "outputs": [],
   "source": [
    "#Generalised CLT from 4 distributions (draw 25 from each)\n",
    "import numpy as np\n",
    "import matplotlib.pyplot as plt\n",
    "from scipy.stats import binom, uniform, expon, arcsine, norm \n",
    "import seaborn as sns\n",
    "%matplotlib\n",
    "\n",
    "Means = []\n",
    "Musize  = int(1e4)\n",
    "mcount=0\n",
    "size = 25\n",
    "\n",
    "for i in range(Musize):\n",
    "    sample1 = uniform.rvs(size=size)\n",
    "    sample2 = binom.rvs(12, 0.3, size=size)\n",
    "    sample3 = expon.rvs(scale=2, size=size)\n",
    "    sample4 = arcsine.rvs(size=size)\n",
    "    samples = np.concatenate((sample1,sample2,sample3,sample4))\n",
    "    mu=np.mean(samples)\n",
    "    Means.append(mu)\n",
    "    \n",
    "\n",
    "fig, ax2 = plt.subplots(1,1, figsize=(4,3))\n",
    "plt.grid()\n",
    "sns.histplot(Means, bins =25, stat = 'density', ax=ax2)\n",
    "ax2.set_title(r'Distribution of $\\bar{X}$ from 4 distributions') \n",
    "#ax.set_xlim(Min,Max) \n",
    "x2 = np.linspace(min(Means), max(Means))\n",
    "ax2.set_ylabel('')\n",
    "MU = np.mean(Means)\n",
    "SIG = np.sqrt(np.var(Means, ddof=1))\n",
    "y2 = norm.pdf(x2, MU, SIG) \n",
    "ax2.plot(x2,y2, 'r')\n",
    "\n",
    "plt.show()\n"
   ]
  }
 ],
 "metadata": {
  "kernelspec": {
   "display_name": "Python 3 (ipykernel)",
   "language": "python",
   "name": "python3"
  },
  "language_info": {
   "codemirror_mode": {
    "name": "ipython",
    "version": 3
   },
   "file_extension": ".py",
   "mimetype": "text/x-python",
   "name": "python",
   "nbconvert_exporter": "python",
   "pygments_lexer": "ipython3",
   "version": "3.9.17"
  }
 },
 "nbformat": 4,
 "nbformat_minor": 5
}
