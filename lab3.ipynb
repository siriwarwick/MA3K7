{
 "cells": [
  {
   "cell_type": "code",
   "execution_count": null,
   "id": "b7d628ce-34cb-4d25-8a89-cb8d076636e1",
   "metadata": {},
   "outputs": [],
   "source": [
    "# Determinant distribution of binary matrices\n",
    "\n",
    "import numpy as np\n",
    "import matplotlib.pyplot as plt\n",
    "import scipy.linalg as LA\n",
    "%matplotlib\n",
    "\n",
    "dim = 3\n",
    "rng = np.random.default_rng()\n",
    "sample = 1e5\n",
    "Det = []\n",
    "\n",
    "for i in np.arange(sample):\n",
    "    A=rng.integers(0,2, (dim,dim))\n",
    "    detA = LA.det(A)\n",
    "    Det.append(detA)\n",
    "\n",
    "Max = max(Det) \n",
    "Min = min(Det) \n",
    "bins = np.arange(Min, Max+2)-0.5\n",
    "fig, ax = plt.subplots(1,1)\n",
    "Data, _, _=ax.hist(Det, bins, color ='teal', density=True, rwidth=0.8)\n",
    "ax.set_xlabel('Det A')\n",
    "ax.set_ylabel('Probability distribution')\n",
    "ax.set_xlim(Min-1, Max+1)\n",
    "ax.set_xticks(np.arange(Min,Max+1))\n",
    "plt.grid('on')\n",
    "plt.show()"
   ]
  },
  {
   "cell_type": "code",
   "execution_count": null,
   "id": "da5977b5-64c4-4967-a478-07a38052dac9",
   "metadata": {},
   "outputs": [],
   "source": [
    "# Timing 2 linear-system solution methods\n",
    "\n",
    "import numpy as np\n",
    "import matplotlib.pyplot as plt\n",
    "from scipy import linalg as LA\n",
    "from time import perf_counter as timer\n",
    "%matplotlib\n",
    "\n",
    "N=np.arange(1,2051,50)\n",
    "rng = np.random.default_rng()\n",
    "t1 = []\n",
    "t2 = []\n",
    "    \n",
    "for n in N:\n",
    "    A = rng.random((n,n))\n",
    "    b = np.ones((n,1))\n",
    "    \n",
    "    tic = timer()\n",
    "    x1 = LA.solve(A, b)\n",
    "    toc = timer()\n",
    "    t1.append(toc-tic)\n",
    "\n",
    "    tic = timer()\n",
    "    x2 = LA.inv(A)*b  \n",
    "    toc = timer()\n",
    "    t2.append(toc-tic)\n",
    "    \n",
    "plt.plot(N,t1, '-ro',N,t2, '-bx') \n",
    "plt.xlabel('Matrix dimension')\n",
    "plt.ylabel('Time (s)')\n",
    "plt.legend(['linalg.solve(A, b)', \n",
    "            'linalg.inv(A)*b'])\n",
    "plt.grid('on')\n",
    "plt.show()"
   ]
  }
 ],
 "metadata": {
  "kernelspec": {
   "display_name": "Python 3 (ipykernel)",
   "language": "python",
   "name": "python3"
  },
  "language_info": {
   "codemirror_mode": {
    "name": "ipython",
    "version": 3
   },
   "file_extension": ".py",
   "mimetype": "text/x-python",
   "name": "python",
   "nbconvert_exporter": "python",
   "pygments_lexer": "ipython3",
   "version": "3.9.17"
  }
 },
 "nbformat": 4,
 "nbformat_minor": 5
}
