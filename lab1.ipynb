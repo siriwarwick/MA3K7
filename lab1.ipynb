{
 "cells": [
  {
   "cell_type": "code",
   "execution_count": null,
   "id": "0b3c0ab8-8e1e-4d03-a3f2-faaf86277ecb",
   "metadata": {},
   "outputs": [],
   "source": [
    "# Check Python version\n",
    "from platform import python_version\n",
    "python_version()"
   ]
  },
  {
   "cell_type": "code",
   "execution_count": null,
   "id": "45182c14-c93d-4f2e-8a22-6c62aece185d",
   "metadata": {},
   "outputs": [],
   "source": [
    "import numpy as np\n",
    "import matplotlib.pyplot as plt\n",
    "\n",
    "# LOG-LOG PLOT\n",
    "x = np.logspace(0, 2, 20) \n",
    "y1 = x**8\n",
    "y2 = x*y1\n",
    "plt.loglog(x, y1, '-ko', x, y2 , '-rx', ms=5) \n",
    "plt.legend(['$y=x^8$','$y=x^9$']) \n",
    "plt.xlabel('$x$')\n",
    "plt.ylabel('$y$') \n",
    "plt.xlim(1,100)\n",
    "plt.grid('on')\n",
    "#plt.savefig('fig_lin.pdf')   # Use this to save figure as pdf\n",
    "plt.show()"
   ]
  },
  {
   "cell_type": "code",
   "execution_count": null,
   "id": "2897f5b9-4343-41ef-9394-446f6cf6ef5f",
   "metadata": {},
   "outputs": [],
   "source": [
    "# SEMI LOG X\n",
    "plt.semilogx(x, y1, '-ko', x, y2 , '-rx', ms=5) \n",
    "plt.legend(['$y=x^8$','$y=x^9$'], loc='upper left') \n",
    "plt.xlabel('$x$')\n",
    "plt.ylabel('$y$') \n",
    "plt.xlim(1,100)\n",
    "plt.grid('on')\n",
    "plt.show()"
   ]
  },
  {
   "cell_type": "code",
   "execution_count": null,
   "id": "d6746026-9155-45cd-8c28-2cdae6540bf9",
   "metadata": {},
   "outputs": [],
   "source": [
    "# LINEAR AXES\n",
    "xlin = np.linspace(0, 100, 20) \n",
    "y1lin = xlin**8\n",
    "y2lin = xlin*y1lin\n",
    "plt.plot(xlin, y1lin, '-ko', xlin, y2lin , '-rx', ms=5) \n",
    "plt.legend(['$y=x^8$','$y=x^9$']) \n",
    "plt.xlabel('$x$')\n",
    "plt.ylabel('$y$') \n",
    "plt.xlim(0,100)\n",
    "plt.grid('on')\n",
    "plt.show()"
   ]
  },
  {
   "cell_type": "code",
   "execution_count": null,
   "id": "963dbd74-a483-4c05-9549-15341c73ab99",
   "metadata": {},
   "outputs": [],
   "source": [
    "# SEMI LOG Y\n",
    "plt.semilogy(xlin, y1lin, '-ko', xlin, y2lin , '-rx', ms=5) \n",
    "plt.legend(['$y=x^8$','$y=x^9$']) \n",
    "plt.xlabel('$x$')\n",
    "plt.ylabel('$y$') \n",
    "plt.xlim(0,100)\n",
    "plt.grid('on')\n",
    "plt.show()"
   ]
  },
  {
   "cell_type": "code",
   "execution_count": null,
   "id": "58b83b62-c9e0-4832-8af1-487bc6abfc6f",
   "metadata": {},
   "outputs": [],
   "source": [
    "# A BAD plot where the linearly spaced points are plotted on log scale.\n",
    "xlin0 = np.linspace(1, 100, 20) \n",
    "y1lin0 = xlin0**8\n",
    "y2lin0 = xlin0*y1lin0\n",
    "plt.loglog(xlin0, y1lin0, '-ko', xlin0, y2lin0 , '-rx', ms=5) \n",
    "plt.legend(['$y=x^8$','$y=x^9$']) \n",
    "plt.xlabel('$x$')\n",
    "plt.ylabel('$y$') \n",
    "plt.xlim(1,100)\n",
    "plt.grid('on')\n",
    "plt.show()"
   ]
  }
 ],
 "metadata": {
  "kernelspec": {
   "display_name": "Python 3 (ipykernel)",
   "language": "python",
   "name": "python3"
  },
  "language_info": {
   "codemirror_mode": {
    "name": "ipython",
    "version": 3
   },
   "file_extension": ".py",
   "mimetype": "text/x-python",
   "name": "python",
   "nbconvert_exporter": "python",
   "pygments_lexer": "ipython3",
   "version": "3.9.17"
  }
 },
 "nbformat": 4,
 "nbformat_minor": 5
}
