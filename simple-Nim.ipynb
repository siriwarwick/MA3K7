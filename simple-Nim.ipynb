{
 "cells": [
  {
   "cell_type": "code",
   "execution_count": null,
   "id": "3d726c7c-83a6-4493-a2ef-18885efddc5d",
   "metadata": {},
   "outputs": [],
   "source": [
    "import numpy as np\n",
    "\n",
    "rng = np.random.default_rng()\n",
    "\n",
    "sticks = 10\n",
    "\n",
    "print('|'*sticks, f'{sticks} left')\n",
    "\n",
    "def game(myturn):\n",
    "    global sticks\n",
    "    if myturn == 1:\n",
    "        x = int(input('Your turn: How many to remove (up to 3)?'))\n",
    "        sticks = sticks - x\n",
    "        print('|'*sticks, f'{sticks} left')\n",
    "        if sticks==1:\n",
    "            print('You win!')\n",
    "            return 0\n",
    "        game(0)\n",
    "    \n",
    "    else:\n",
    "        x = rng.integers(1, min(sticks,4))\n",
    "        print(f\"Bot's turn: {x} removed\")\n",
    "        sticks = sticks - x\n",
    "        print('|'*sticks, f'{sticks} left')\n",
    "        if sticks==1:\n",
    "            print('You lose!')\n",
    "            return 0\n",
    "        game(1)\n",
    "    \n",
    "myturn = 1 # 1 = player starts first, 0 = bot starts first\n",
    "\n",
    "game(myturn)"
   ]
  }
 ],
 "metadata": {
  "kernelspec": {
   "display_name": "Python 3 (ipykernel)",
   "language": "python",
   "name": "python3"
  },
  "language_info": {
   "codemirror_mode": {
    "name": "ipython",
    "version": 3
   },
   "file_extension": ".py",
   "mimetype": "text/x-python",
   "name": "python",
   "nbconvert_exporter": "python",
   "pygments_lexer": "ipython3",
   "version": "3.9.17"
  }
 },
 "nbformat": 4,
 "nbformat_minor": 5
}
