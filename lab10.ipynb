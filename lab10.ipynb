{
 "cells": [
  {
   "cell_type": "code",
   "execution_count": null,
   "id": "971107c9-3159-4667-8c8f-306a2f22afef",
   "metadata": {},
   "outputs": [],
   "source": [
    "# Basic animation\n",
    "import numpy as np\n",
    "import matplotlib.pyplot as plt\n",
    "from matplotlib.animation import FuncAnimation\n",
    "%matplotlib\n",
    "\n",
    "plt.rcParams.update({'font.size': 12})\n",
    "\n",
    "h = 0.05\n",
    "kmax = 5\n",
    "K = np.arange(0, kmax+h, h)\n",
    "X = np.linspace(0, 2*np.pi, 200)\n",
    "\n",
    "def f(k):\n",
    "    return np.sin(k*X)\n",
    "\n",
    "fig = plt.figure()\n",
    "ax = fig.add_subplot(111, xlim=(0, 2*np.pi), \n",
    "                          ylim=(-1.1, 1.2))\n",
    "ax.set_xlabel('$x$')\n",
    "ax.set_ylabel('$y$')\n",
    "ax.set_title('$y=\\sin kx$')\n",
    "ax.grid()\n",
    "curve, = ax.plot([], [], 'b-', lw=3)\n",
    "text = '$k$ = %.1f'\n",
    "kval = ax.text(0.1, 1.1, '')\n",
    " \n",
    "def animate_frame(i):\n",
    "    curve.set_data(X, f(K[i]))\n",
    "    kval.set_text(text % (i*h))\n",
    "    return curve, kval\n",
    "\n",
    "ani = FuncAnimation(fig, animate_frame, \n",
    "       frames = np.arange(0, len(K)), \n",
    "       interval = 50)\n",
    "\n",
    "#ani.save('sine.mp4')\n",
    "\n",
    "plt.show()"
   ]
  },
  {
   "cell_type": "code",
   "execution_count": 8,
   "id": "77983a22-07d0-4eb7-9220-776599324cac",
   "metadata": {},
   "outputs": [
    {
     "name": "stdout",
     "output_type": "stream",
     "text": [
      "Using matplotlib backend: MacOSX\n"
     ]
    }
   ],
   "source": [
    "# Riemann non-differentiable function animation\n",
    "import numpy as np\n",
    "import matplotlib.pyplot as plt\n",
    "from matplotlib.animation import FuncAnimation\n",
    "%matplotlib\n",
    "\n",
    "plt.rcParams.update({'font.size': 12})\n",
    "\n",
    "h=0.2\n",
    "nmax = 100\n",
    "N = np.arange(0, nmax+1)\n",
    "X = np.linspace(0, 2*np.pi, 200)\n",
    "\n",
    "def R(n):\n",
    "    S = np.zeros_like(X)\n",
    "    for k in np.arange(1,n):\n",
    "        S += np.sin(k**2*X)/k**2\n",
    "    return S\n",
    "\n",
    "fig = plt.figure()\n",
    "ax = fig.add_subplot(111, xlim=(min(X), max(X)),\n",
    "                          ylim=(-1.4, 1.4))\n",
    "ax.set_xlabel('$x$')\n",
    "ax.set_ylabel('$y$')\n",
    "ax.grid()\n",
    "\n",
    "curve, = ax.plot([], [], 'b-', lw=2)\n",
    "\n",
    "def animate_frame(i):\n",
    "    curve.set_data(X, R(N[i]))\n",
    "    ax.set_title(f'$y=R_n(x)$, n={N[i]}')\n",
    "    return curve \n",
    "\n",
    "ani = FuncAnimation(fig, animate_frame, \n",
    "       frames = np.arange(0, len(N)), \n",
    "       interval = 100)\n",
    "\n",
    "#ani.save('Riemann.mp4')\n",
    "\n",
    "plt.show()"
   ]
  }
 ],
 "metadata": {
  "kernelspec": {
   "display_name": "Python 3 (ipykernel)",
   "language": "python",
   "name": "python3"
  },
  "language_info": {
   "codemirror_mode": {
    "name": "ipython",
    "version": 3
   },
   "file_extension": ".py",
   "mimetype": "text/x-python",
   "name": "python",
   "nbconvert_exporter": "python",
   "pygments_lexer": "ipython3",
   "version": "3.9.17"
  }
 },
 "nbformat": 4,
 "nbformat_minor": 5
}
