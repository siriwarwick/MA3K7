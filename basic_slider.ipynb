{
 "cells": [
  {
   "cell_type": "code",
   "execution_count": null,
   "id": "5d2be0b2-c384-4a27-ade2-42430f4d7108",
   "metadata": {},
   "outputs": [],
   "source": [
    "import numpy as np\n",
    "import matplotlib.pyplot as plt\n",
    "from matplotlib.widgets import Slider \n",
    "%matplotlib\n",
    "\n",
    "k = 1\n",
    "X = np.linspace(0, 2*np.pi, 200)\n",
    "\n",
    "def f(k):\n",
    "    return np.sin(k*X)\n",
    "\n",
    "fig, ax = plt.subplots()\n",
    "plt.subplots_adjust(bottom = 0.2)\n",
    "plt.grid('on')\n",
    "\n",
    "P, = plt.plot(X, f(k))\n",
    "\n",
    "slider_dim = plt.axes([0.15, 0.1, 0.7, 0.02])\n",
    "k_slide = Slider(slider_dim, '$k$', 0, 4, \n",
    "                 valstep = 0.02, valinit = k)\n",
    "\n",
    "def update(val):\n",
    "    k = k_slide.val\n",
    "    P.set_ydata(f(k))\n",
    "    fig.canvas.draw_idle()\n",
    "\n",
    "k_slide.on_changed(update)\n",
    "\n",
    "plt.show()"
   ]
  }
 ],
 "metadata": {
  "kernelspec": {
   "display_name": "Python 3 (ipykernel)",
   "language": "python",
   "name": "python3"
  },
  "language_info": {
   "codemirror_mode": {
    "name": "ipython",
    "version": 3
   },
   "file_extension": ".py",
   "mimetype": "text/x-python",
   "name": "python",
   "nbconvert_exporter": "python",
   "pygments_lexer": "ipython3",
   "version": "3.9.17"
  }
 },
 "nbformat": 4,
 "nbformat_minor": 5
}
